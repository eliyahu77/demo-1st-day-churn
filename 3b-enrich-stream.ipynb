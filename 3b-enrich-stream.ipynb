{
 "cells": [
  {
   "cell_type": "markdown",
   "metadata": {},
   "source": [
    "# Enrich Stream\n",
    "  --------------------------------------------------------------------\n",
    "\n",
    "##### This notebook will create a function that will enrich relevant events with socioeconomic data.\n"
   ]
  },
  {
   "cell_type": "markdown",
   "metadata": {},
   "source": [
    "## Create and Test a Local Function \n",
    "Import nuclio SDK and magics, <b>do not remove the cell and comment !!!</b>"
   ]
  },
  {
   "cell_type": "code",
   "execution_count": 1,
   "metadata": {},
   "outputs": [],
   "source": [
    "# nuclio: ignore\n",
    "import nuclio"
   ]
  },
  {
   "cell_type": "markdown",
   "metadata": {},
   "source": [
    "#### Functions imports"
   ]
  },
  {
   "cell_type": "code",
   "execution_count": 2,
   "metadata": {},
   "outputs": [],
   "source": [
    "# nuclio: start-code"
   ]
  },
  {
   "cell_type": "code",
   "execution_count": 3,
   "metadata": {},
   "outputs": [],
   "source": [
    "import os\n",
    "import hashlib\n",
    "import json\n",
    "import v3io.dataplane"
   ]
  },
  {
   "cell_type": "markdown",
   "metadata": {},
   "source": [
    "<b>Specify function dependencies and configuration<b>"
   ]
  },
  {
   "cell_type": "code",
   "execution_count": 4,
   "metadata": {},
   "outputs": [],
   "source": [
    "%nuclio cmd -c pip install v3io"
   ]
  },
  {
   "cell_type": "code",
   "execution_count": 5,
   "metadata": {},
   "outputs": [
    {
     "name": "stdout",
     "output_type": "stream",
     "text": [
      "%nuclio: setting 'V3IO_ACCESS_KEY' environment variable\n",
      "%nuclio: setting 'CONTAINER' environment variable\n",
      "%nuclio: setting 'OUTPUT_STREAM_PATH' environment variable\n",
      "%nuclio: setting 'SHARDS_COUNT' environment variable\n",
      "%nuclio: setting 'PARTITION_ATTR' environment variable\n",
      "%nuclio: setting 'ENRICHMENT_TABLE_PATH' environment variable\n",
      "%nuclio: setting 'ENRICHMENT_KEY' environment variable\n"
     ]
    }
   ],
   "source": [
    "%%nuclio env\n",
    "V3IO_ACCESS_KEY = ${V3IO_ACCESS_KEY}\n",
    "CONTAINER = users\n",
    "OUTPUT_STREAM_PATH = ${V3IO_USERNAME}/examples/rapid-prototype/enriched-events-stream\n",
    "SHARDS_COUNT = 8\n",
    "PARTITION_ATTR = user_id\n",
    "\n",
    "ENRICHMENT_TABLE_PATH = ${V3IO_USERNAME}/examples/rapid-prototype/enrichment-table\n",
    "ENRICHMENT_KEY = postcode"
   ]
  },
  {
   "cell_type": "code",
   "execution_count": 6,
   "metadata": {},
   "outputs": [
    {
     "name": "stdout",
     "output_type": "stream",
     "text": [
      "%nuclio: setting spec.triggers.v3io_stream.kind to 'v3ioStream'\n",
      "%nuclio: setting spec.triggers.v3io_stream.disabled to False\n",
      "%nuclio: setting spec.triggers.v3io_stream.url to 'http://v3io-webapi:8081/users/michaelk/examples/rapid-prototype/incoming-events-stream@enrichstream'\n",
      "%nuclio: setting spec.triggers.v3io_stream.maxWorkers to 10\n",
      "%nuclio: setting spec.triggers.v3io_stream.password to 'b01eb2f1-294a-4f63-b0a6-42561e3e1706'\n",
      "%nuclio: setting spec.triggers.v3io_stream.attributes.pollingIntervalMs to 500\n",
      "%nuclio: setting spec.triggers.v3io_stream.attributes.seekTo to 'earliest'\n",
      "%nuclio: setting spec.triggers.v3io_stream.attributes.readBatchSize to 64\n"
     ]
    }
   ],
   "source": [
    "%%nuclio config\n",
    "spec.triggers.v3io_stream.kind = \"v3ioStream\"\n",
    "spec.triggers.v3io_stream.disabled = false\n",
    "spec.triggers.v3io_stream.url = \"http://v3io-webapi:8081/users/${V3IO_USERNAME}/examples/rapid-prototype/incoming-events-stream@enrichstream\"\n",
    "spec.triggers.v3io_stream.maxWorkers = 10\n",
    "spec.triggers.v3io_stream.password = \"${V3IO_ACCESS_KEY}\"\n",
    "spec.triggers.v3io_stream.attributes.pollingIntervalMs = 500\n",
    "spec.triggers.v3io_stream.attributes.seekTo = \"earliest\"\n",
    "spec.triggers.v3io_stream.attributes.readBatchSize = 64\n"
   ]
  },
  {
   "cell_type": "markdown",
   "metadata": {},
   "source": [
    "### Manage output stream"
   ]
  },
  {
   "cell_type": "code",
   "execution_count": 7,
   "metadata": {},
   "outputs": [],
   "source": [
    "# nuclio: ignore\n",
    "\n",
    "V3IO_ACCESS_KEY = os.getenv('V3IO_ACCESS_KEY')\n",
    "CONTAINER = os.getenv('CONTAINER')\n",
    "OUTPUT_STREAM_PATH = os.getenv('OUTPUT_STREAM_PATH')\n",
    "SHARDS_COUNT = int(os.getenv('SHARDS_COUNT'))\n",
    "    \n",
    "v3io_client = v3io.dataplane.Client(endpoint='http://v3io-webapi:8081', access_key=V3IO_ACCESS_KEY)\n"
   ]
  },
  {
   "cell_type": "markdown",
   "metadata": {},
   "source": [
    "#### Create output stream"
   ]
  },
  {
   "cell_type": "code",
   "execution_count": 8,
   "metadata": {},
   "outputs": [
    {
     "data": {
      "text/plain": [
       "204"
      ]
     },
     "execution_count": 8,
     "metadata": {},
     "output_type": "execute_result"
    }
   ],
   "source": [
    "# nuclio: ignore\n",
    "resp = v3io_client.create_stream(container=CONTAINER,\n",
    "                           path=OUTPUT_STREAM_PATH,\n",
    "                           shard_count=SHARDS_COUNT)\n",
    "resp.status_code"
   ]
  },
  {
   "cell_type": "markdown",
   "metadata": {},
   "source": [
    "#### Delete output stream"
   ]
  },
  {
   "cell_type": "code",
   "execution_count": null,
   "metadata": {},
   "outputs": [],
   "source": [
    "# nuclio: ignore\n",
    "resp = v3io_client.delete_stream(container=CONTAINER, path=OUTPUT_STREAM_PATH)\n",
    "resp.body"
   ]
  },
  {
   "cell_type": "markdown",
   "metadata": {},
   "source": [
    "## Function code"
   ]
  },
  {
   "cell_type": "code",
   "execution_count": 8,
   "metadata": {},
   "outputs": [],
   "source": [
    "def init_context(context):\n",
    "    V3IO_ACCESS_KEY = os.getenv('V3IO_ACCESS_KEY')\n",
    "    CONTAINER = os.getenv('CONTAINER')\n",
    "    OUTPUT_STREAM_PATH = os.getenv('OUTPUT_STREAM_PATH')\n",
    "    SHARDS_COUNT = os.getenv('SHARDS_COUNT')\n",
    "    PARTITION_ATTR = os.getenv('PARTITION_ATTR')\n",
    "    ENRICHMENT_TABLE_PATH = os.getenv('ENRICHMENT_TABLE_PATH')\n",
    "    ENRICHMENT_KEY = os.getenv('ENRICHMENT_KEY')\n",
    "    v3io_client = v3io.dataplane.Client(endpoint='http://v3io-webapi:8081', access_key=V3IO_ACCESS_KEY)\n",
    "    \n",
    "    setattr(context, 'v3io_client', v3io_client)\n",
    "    setattr(context, 'partition_attr', PARTITION_ATTR)\n",
    "    setattr(context, 'shards_count', int(SHARDS_COUNT))\n",
    "    setattr(context, 'container', CONTAINER)\n",
    "    setattr(context, 'output_stream_path', OUTPUT_STREAM_PATH)\n",
    "    \n",
    "    setattr(context, 'enrichment_table_path', ENRICHMENT_TABLE_PATH)\n",
    "    setattr(context, 'enrichment_key', ENRICHMENT_KEY)\n",
    "\n",
    "\n",
    "def handler(context, event):\n",
    "    if type(event.body) is dict:\n",
    "        event_dict = event.body\n",
    "    else:\n",
    "        event_dict = json.loads(event.body)\n",
    "        \n",
    "    context.logger.info_with('Got invoked',\n",
    "                             trigger_kind=event.trigger.kind,\n",
    "                             event_body=event_dict)\n",
    "        \n",
    "    partition_key = event_dict.get(context.partition_attr)\n",
    "    \n",
    "    record = {}\n",
    "    if event_dict['event_type'] == 'registration':\n",
    "        enriched_event = enrich_event(context, event_dict)\n",
    "        record = event_to_record(enriched_event, partition_key)\n",
    "    else:\n",
    "        record = event_to_record(event_dict, partition_key)\n",
    "    \n",
    "    resp = context.v3io_client.put_records(container=context.container, \n",
    "                                   path=context.output_stream_path, \n",
    "                                   records=[record], \n",
    "                                   raise_for_status=v3io.dataplane.RaiseForStatus.never)\n",
    "    \n",
    "    context.logger.info_with('Sent event to stream', \n",
    "                             record=record,\n",
    "                             response_status=resp.status_code, \n",
    "                             response_body=resp.body.decode('utf-8'))\n",
    "    \n",
    "    return resp.status_code\n",
    "\n",
    "\n",
    "def enrich_event(context, event_dict):\n",
    "    if context.enrichment_key in event_dict:\n",
    "        enrichment_key_value = event_dict[context.enrichment_key]\n",
    "        resp = context.v3io_client.get_item(container=context.container, \n",
    "                                            path=os.path.join(context.enrichment_table_path, str(enrichment_key_value)),\n",
    "                                           raise_for_status=v3io.dataplane.RaiseForStatus.never)\n",
    "        if 200 <= resp.status_code <= 299:\n",
    "            enriched_event = {**event_dict, **resp.output.item}\n",
    "            context.logger.info_with('Event was enriched', enriched_event=enriched_event)\n",
    "            return enriched_event\n",
    "        else:\n",
    "            context.logger.debug_with(\"Couldn't enrich event\", \n",
    "                                      enrichment_key_value=enrichment_key_value,\n",
    "                                      response_status=resp.status_code, \n",
    "                                      response_body=resp.body.decode('utf-8'))\n",
    "            return event_dict\n",
    "    else:\n",
    "        return event_dict\n",
    "\n",
    "    \n",
    "def event_to_record(event_dict, partition_key):\n",
    "    event_str = json.dumps(event_dict)\n",
    "    return {'data': event_str, 'partition_key': str(partition_key)}"
   ]
  },
  {
   "cell_type": "markdown",
   "metadata": {},
   "source": [
    "The following end-code annotation tells ```nuclio``` to stop parsing the notebook from this cell. _**Please do not remove this cell**_:"
   ]
  },
  {
   "cell_type": "code",
   "execution_count": 9,
   "metadata": {},
   "outputs": [],
   "source": [
    "# nuclio: end-code\n",
    "# marks the end of a code section"
   ]
  },
  {
   "cell_type": "markdown",
   "metadata": {},
   "source": [
    "## Test locally"
   ]
  },
  {
   "cell_type": "code",
   "execution_count": 10,
   "metadata": {},
   "outputs": [
    {
     "name": "stdout",
     "output_type": "stream",
     "text": [
      "Python> 2020-07-29 12:48:20,930 [info] Got invoked: {'trigger_kind': '', 'event_body': {'user_id': 111111, 'event_type': 'registration', 'postcode': 11014}}\n",
      "Python> 2020-07-29 12:48:20,932 [info] Event was enriched: {'enriched_event': {'user_id': 111111, 'event_type': 'registration', 'postcode': 11014, 'socioeconomic_idx': 2}}\n",
      "Python> 2020-07-29 12:48:20,935 [info] Sent event to stream: {'record': {'data': '{\"user_id\": 111111, \"event_type\": \"registration\", \"postcode\": 11014, \"socioeconomic_idx\": 2}', 'partition_key': '111111'}, 'response_status': 200, 'response_body': '{ \"FailedRecordCount\":0,\"Records\": [{ \"SequenceNumber\":2,\"ShardId\":5 } ] }'}\n"
     ]
    },
    {
     "data": {
      "text/plain": [
       "200"
      ]
     },
     "execution_count": 10,
     "metadata": {},
     "output_type": "execute_result"
    }
   ],
   "source": [
    "event = nuclio.Event(body=b'{\"user_id\" : 111111 , \"event_type\": \"registration\", \"postcode\": 11014}')\n",
    "init_context(context)\n",
    "handler(context, event)\n"
   ]
  },
  {
   "cell_type": "markdown",
   "metadata": {},
   "source": [
    "## Deploy function"
   ]
  },
  {
   "cell_type": "code",
   "execution_count": 11,
   "metadata": {},
   "outputs": [
    {
     "name": "stdout",
     "output_type": "stream",
     "text": [
      "[nuclio] 2020-07-29 12:48:40,306 (info) Build complete\n",
      "[nuclio] 2020-07-29 12:48:43,351 done updating michaelk-enrich-stream, function address: 192.168.226.12:30498\n",
      "%nuclio: function deployed\n"
     ]
    }
   ],
   "source": [
    "%nuclio deploy -p rapid-prototype-mk -n ${V3IO_USERNAME}-enrich-stream"
   ]
  },
  {
   "cell_type": "code",
   "execution_count": null,
   "metadata": {},
   "outputs": [],
   "source": []
  }
 ],
 "metadata": {
  "kernelspec": {
   "display_name": "Python [conda env:root] *",
   "language": "python",
   "name": "conda-root-py"
  },
  "language_info": {
   "codemirror_mode": {
    "name": "ipython",
    "version": 3
   },
   "file_extension": ".py",
   "mimetype": "text/x-python",
   "name": "python",
   "nbconvert_exporter": "python",
   "pygments_lexer": "ipython3",
   "version": "3.6.8"
  }
 },
 "nbformat": 4,
 "nbformat_minor": 4
}
