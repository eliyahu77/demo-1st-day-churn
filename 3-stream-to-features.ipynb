{
 "cells": [
  {
   "cell_type": "markdown",
   "metadata": {},
   "source": [
    "# Stream to Features\n",
    "  --------------------------------------------------------------------\n",
    "\n",
    "##### This notebook will create a function that create feature vectors from streaming events\n"
   ]
  },
  {
   "cell_type": "markdown",
   "metadata": {},
   "source": [
    "## Create and Test a Local Function \n",
    "Import nuclio SDK and magics, <b>do not remove the cell and comment !!!</b>"
   ]
  },
  {
   "cell_type": "code",
   "execution_count": 32,
   "metadata": {},
   "outputs": [],
   "source": [
    "# nuclio: ignore\n",
    "import nuclio"
   ]
  },
  {
   "cell_type": "markdown",
   "metadata": {},
   "source": [
    "#### Functions imports"
   ]
  },
  {
   "cell_type": "code",
   "execution_count": 2,
   "metadata": {},
   "outputs": [],
   "source": [
    "# nuclio: start-code"
   ]
  },
  {
   "cell_type": "code",
   "execution_count": 42,
   "metadata": {},
   "outputs": [],
   "source": [
    "import os\n",
    "import json\n",
    "from v3io import dataplane, common\n",
    "import v3io.dataplane\n",
    "from datetime import datetime"
   ]
  },
  {
   "cell_type": "markdown",
   "metadata": {},
   "source": [
    "<b>Specify function dependencies and configuration<b>"
   ]
  },
  {
   "cell_type": "code",
   "execution_count": 4,
   "metadata": {},
   "outputs": [],
   "source": [
    "%nuclio cmd -c pip install v3io"
   ]
  },
  {
   "cell_type": "code",
   "execution_count": 51,
   "metadata": {
    "collapsed": true,
    "jupyter": {
     "outputs_hidden": true
    }
   },
   "outputs": [
    {
     "name": "stdout",
     "output_type": "stream",
     "text": [
      "%nuclio: setting 'V3IO_ACCESS_KEY' environment variable\n",
      "%nuclio: setting 'CONTAINER' environment variable\n",
      "%nuclio: setting 'FEATURE_TABLE_PATH' environment variable\n",
      "%nuclio: setting 'MODEL_SERVING_URL' environment variable\n",
      "%nuclio: setting 'ENRICHMENT_TABLE_PATH' environment variable\n",
      "%nuclio: setting 'ENRICHMENT_KEY' environment variable\n",
      "%nuclio: setting 'OUTPUT_STREAM_PATH' environment variable\n",
      "%nuclio: setting 'SHARDS_COUNT' environment variable\n"
     ]
    }
   ],
   "source": [
    "%%nuclio env\n",
    "V3IO_ACCESS_KEY = ${V3IO_ACCESS_KEY}\n",
    "CONTAINER = users\n",
    "FEATURE_TABLE_PATH = ${V3IO_USERNAME}/examples/rapid-churn/feature-table\n",
    "MODEL_SERVING_URL = ''\n",
    "\n",
    "ENRICHMENT_TABLE_PATH = ${V3IO_USERNAME}/examples/rapid-churn/enrichment-table\n",
    "ENRICHMENT_KEY = postcode\n",
    "\n",
    "OUTPUT_STREAM_PATH = ${V3IO_USERNAME}/examples/rapid-churn/user-events-stream\n",
    "SHARDS_COUNT = 8"
   ]
  },
  {
   "cell_type": "code",
   "execution_count": 67,
   "metadata": {
    "collapsed": true,
    "jupyter": {
     "outputs_hidden": true
    }
   },
   "outputs": [
    {
     "name": "stdout",
     "output_type": "stream",
     "text": [
      "%nuclio: setting spec.triggers.v3io_stream.kind to 'v3ioStream'\n",
      "%nuclio: setting spec.triggers.v3io_stream.disabled to False\n",
      "%nuclio: setting spec.triggers.v3io_stream.url to 'http://v3io-webapi:8081/users/admin/examples/rapid-churn/incoming-events-stream@stream2features'\n",
      "%nuclio: setting spec.triggers.v3io_stream.maxWorkers to 10\n",
      "%nuclio: setting spec.triggers.v3io_stream.password to '4253f5c9-020f-4e6c-ae66-c9e9c5ad24ed'\n",
      "%nuclio: setting spec.triggers.v3io_stream.attributes.pollingIntervalMs to 500\n",
      "%nuclio: setting spec.triggers.v3io_stream.attributes.seekTo to 'earliest'\n",
      "%nuclio: setting spec.triggers.v3io_stream.attributes.readBatchSize to 64\n"
     ]
    }
   ],
   "source": [
    "%%nuclio config\n",
    "spec.triggers.v3io_stream.kind = \"v3ioStream\"\n",
    "spec.triggers.v3io_stream.disabled = false\n",
    "spec.triggers.v3io_stream.url = \"http://v3io-webapi:8081/users/${V3IO_USERNAME}/examples/rapid-churn/incoming-events-stream@stream2features\"\n",
    "spec.triggers.v3io_stream.maxWorkers = 10\n",
    "spec.triggers.v3io_stream.password = \"${V3IO_ACCESS_KEY}\"\n",
    "spec.triggers.v3io_stream.attributes.pollingIntervalMs = 500\n",
    "spec.triggers.v3io_stream.attributes.seekTo = \"earliest\"\n",
    "spec.triggers.v3io_stream.attributes.readBatchSize = 64\n"
   ]
  },
  {
   "cell_type": "markdown",
   "metadata": {},
   "source": [
    "### Manage output stream"
   ]
  },
  {
   "cell_type": "code",
   "execution_count": 52,
   "metadata": {},
   "outputs": [],
   "source": [
    "# nuclio: ignore\n",
    "\n",
    "V3IO_ACCESS_KEY = os.getenv('V3IO_ACCESS_KEY')\n",
    "CONTAINER = os.getenv('CONTAINER')\n",
    "OUTPUT_STREAM_PATH = os.getenv('OUTPUT_STREAM_PATH')\n",
    "SHARDS_COUNT = int(os.getenv('SHARDS_COUNT'))\n",
    "    \n",
    "v3io_client = v3io.dataplane.Client(endpoint='http://v3io-webapi:8081', access_key=V3IO_ACCESS_KEY)\n"
   ]
  },
  {
   "cell_type": "markdown",
   "metadata": {},
   "source": [
    "#### Create output stream"
   ]
  },
  {
   "cell_type": "code",
   "execution_count": 53,
   "metadata": {},
   "outputs": [
    {
     "data": {
      "text/plain": [
       "204"
      ]
     },
     "execution_count": 53,
     "metadata": {},
     "output_type": "execute_result"
    }
   ],
   "source": [
    "# nuclio: ignore\n",
    "resp = v3io_client.create_stream(container=CONTAINER,\n",
    "                           path=OUTPUT_STREAM_PATH,\n",
    "                           shard_count=SHARDS_COUNT)\n",
    "resp.status_code"
   ]
  },
  {
   "cell_type": "markdown",
   "metadata": {},
   "source": [
    "## Function code"
   ]
  },
  {
   "cell_type": "code",
   "execution_count": 61,
   "metadata": {},
   "outputs": [],
   "source": [
    "def init_context(context):\n",
    "    V3IO_ACCESS_KEY = os.getenv('V3IO_ACCESS_KEY')\n",
    "    CONTAINER = os.getenv('CONTAINER')\n",
    "    FEATURE_TABLE_PATH = os.getenv('FEATURE_TABLE_PATH')\n",
    "    MODEL_SERVING_URL = os.getenv('MODEL_SERVING_URL')\n",
    "    v3io_client = dataplane.Client(endpoint='http://v3io-webapi:8081', access_key=V3IO_ACCESS_KEY)\n",
    "    ENRICHMENT_TABLE_PATH = os.getenv('ENRICHMENT_TABLE_PATH')\n",
    "    ENRICHMENT_KEY = os.getenv('ENRICHMENT_KEY')\n",
    "    OUTPUT_STREAM_PATH = os.getenv('OUTPUT_STREAM_PATH')\n",
    "    \n",
    "    event_handlers = {'registration': process_registration,\n",
    "                      'purchase': process_purchase,\n",
    "                      'activity': process_activity}\n",
    "    \n",
    "    setattr(context, 'v3io_client', v3io_client)\n",
    "    setattr(context, 'container', CONTAINER)\n",
    "    setattr(context, 'feature_table_path', FEATURE_TABLE_PATH)\n",
    "    setattr(context, 'model_serving_url', MODEL_SERVING_URL)\n",
    "    setattr(context, 'event_handlers', event_handlers)\n",
    "    setattr(context, 'enrichment_table_path', ENRICHMENT_TABLE_PATH)\n",
    "    setattr(context, 'enrichment_key', ENRICHMENT_KEY)\n",
    "    setattr(context, 'output_stream_path', OUTPUT_STREAM_PATH)"
   ]
  },
  {
   "cell_type": "code",
   "execution_count": 61,
   "metadata": {},
   "outputs": [],
   "source": [
    "def handler(context, event):\n",
    "    if type(event.body) is dict:\n",
    "        event_dict = event.body\n",
    "    else:\n",
    "        event_dict = json.loads(event.body)\n",
    "        \n",
    "    if is_relevant_event(context, event_dict):\n",
    "        event_type = get_event_type(event_dict)\n",
    "        context.logger.info(f'Incoming event type: {event_type}')\n",
    "        \n",
    "        # python switch-case\n",
    "        process_func = context.event_handlers.get(event_type)\n",
    "        context.logger.info(f'Processing event {event_dict}')\n",
    "        response = process_func(context, event_dict)\n",
    "        context.logger.info(f'Finished processing with status: {response.status_code} - and response body: {response.body} , event: {event_dict}')\n",
    "    else:\n",
    "        context.logger.info(f'Not relevant event')    \n",
    "\n",
    "        \n",
    "def get_event_type(event):\n",
    "    return event['event_type']\n",
    "\n",
    "\n",
    "def is_relevant_event(context, event):\n",
    "    return get_event_type(event) in context.event_handlers\n",
    "        \n",
    "\n",
    "def trigger_prediction(context, event):\n",
    "    user_id = event['user_id']\n",
    "    event_time = event['event_time']\n",
    "    payload = {'user_id': user_id, 'event_time': event_time}\n",
    "\n",
    "    resp = requests.post(url=context.predict_url, json=payload)\n",
    "    context.logger.info(f'Triggered prediction for user: {user_id}, prediction response: {resp.text}')\n",
    "\n",
    "\n",
    "def event_time_to_ts(event_time):\n",
    "    dt = datetime.strptime(event_time,'%Y-%m-%d %H:%M:%S.%f')\n",
    "    return datetime.timestamp(dt)\n",
    "\n",
    "\n",
    "def get_sum_count_mean_var_expr(feature: str, current_value):\n",
    "    sum_str = f\"SET {feature}_sum= if_not_exists({feature}_sum, 0) + {current_value};\"\n",
    "    count_str = f\"SET {feature}_count= if_not_exists({feature}_count, 0) + 1;\"\n",
    "    delta_str = f\"SET {feature}_delta= {current_value} - if_not_exists({feature}_mean, 0);\"\n",
    "    mean_str = f\"SET {feature}_mean= if_not_exists({feature}_mean, 0) + ({feature}_delta / {feature}_count);\"\n",
    "    m2_str = f\"SET {feature}_m2= if_not_exists({feature}_m2, 0) + ({feature}_delta * ({current_value} - {feature}_mean));\"\n",
    "    var_str = f\"SET {feature}_var= {feature}_m2 / (max(2, {feature}_count)-1);\"\n",
    "    expression = sum_str + count_str + delta_str + mean_str + m2_str + var_str\n",
    "    return expression\n",
    "\n",
    "\n",
    "def update_features(context, user_id, expression, condition):\n",
    "    return context.v3io_client.update_item(container=context.container,\n",
    "                                          path=common.helpers.url_join(context.feature_table_path, user_id),\n",
    "                                          condition=condition,\n",
    "                                          expression=expression,\n",
    "                                          raise_for_status=dataplane.RaiseForStatus.never)\n",
    "\n",
    "def enrich_event(context, event_dict):\n",
    "    if context.enrichment_key in event_dict:\n",
    "        enrichment_key_value = event_dict[context.enrichment_key]\n",
    "        resp = context.v3io_client.get_item(container=context.container, \n",
    "                                            path=os.path.join(context.enrichment_table_path, str(enrichment_key_value)),\n",
    "                                           raise_for_status=v3io.dataplane.RaiseForStatus.never)\n",
    "        if 200 <= resp.status_code <= 299:\n",
    "            enriched_event = {**event_dict, **resp.output.item}\n",
    "            context.logger.info_with('Event was enriched', enriched_event=enriched_event)\n",
    "            return enriched_event\n",
    "        else:\n",
    "            context.logger.debug_with(\"Couldn't enrich event\", \n",
    "                                      enrichment_key_value=enrichment_key_value,\n",
    "                                      response_status=resp.status_code, \n",
    "                                      response_body=resp.body.decode('utf-8'))\n",
    "            return event_dict\n",
    "    else:\n",
    "        return event_dict\n",
    "\n",
    "\n",
    "def process_registration(context, event):\n",
    "    user_id = event['user_id']\n",
    "    \n",
    "    enriched_event = enrich_event(context, event)\n",
    "    \n",
    "    features = {'registration_date': enriched_event['event_time'],\n",
    "               'date_of_birth': enriched_event['date_of_birth'],\n",
    "               'socioeconomic_idx':  enriched_event['socioeconomic_idx'],\n",
    "               'affiliate_url': enriched_event['affiliate_url']}\n",
    "    \n",
    "    response = context.v3io_client.put_item(container=context.container,\n",
    "                                       path=common.helpers.url_join(context.feature_table_path, user_id),\n",
    "                                       attributes=features,\n",
    "                                       raise_for_status=dataplane.RaiseForStatus.never)\n",
    "    return response\n",
    "\n",
    "\n",
    "def process_purchase(context, event):\n",
    "    user_id = event['user_id']\n",
    "    event_time = event['event_time']\n",
    "    event_ts = event_time_to_ts(event_time)\n",
    "    \n",
    "    purchase_amount = event['amount']\n",
    "\n",
    "    first_purchase_ts_str = f\"SET first_purchase_ts=if_not_exists(first_purchase_ts, {event_ts});\"\n",
    "    sum_count_mean_var_expr = get_sum_count_mean_var_expr('purchase', purchase_amount)\n",
    "    \n",
    "    expression = first_purchase_ts_str + sum_count_mean_var_expr\n",
    "    condition = f\"exists(registration_date) AND (NOT exists(first_purchase_ts) OR first_purchase_ts >= ({event_ts} - 86400 ))\"\n",
    "    \n",
    "    return update_features(context, user_id, expression, condition)\n",
    "\n",
    "\n",
    "def process_activity(context, event):\n",
    "    user_id = event['user_id']\n",
    "    event_time = event['event_time']\n",
    "    event_ts = event_time_to_ts(event_time)\n",
    "    context.logger.info(f'enriching event for {user_id}')\n",
    "    \n",
    "    score = event['score']\n",
    "    duration = event['duration']\n",
    "    win_amount = event['is_win']\n",
    "    score_expr = get_sum_count_mean_var_expr('score', score)\n",
    "    duration_expr = get_sum_count_mean_var_expr('duration', duration)\n",
    "    win_expr = get_sum_count_mean_var_expr('win_amount', win_amount)\n",
    " \n",
    "    expression = score_expr + duration_expr + win_expr\n",
    "    condition = f\"first_purchase_ts >= ({event_ts} - 86400 )\"\n",
    "    \n",
    "    updated = update_features(context, user_id, expression, condition)\n",
    "    \n",
    "    log_user_status(context, user_id)\n",
    "    \n",
    "    return updated\n",
    "\n",
    "def log_user_status(context, user_id):\n",
    "    features = {'data': json.dumps(context.v3io_client.get_item(container=context.container, \n",
    "                                        path=os.path.join(context.feature_table_path, user_id),\n",
    "                                        raise_for_status=v3io.dataplane.RaiseForStatus.never).output.item),\n",
    "                'partition_key': user_id}\n",
    "    \n",
    "    resp = context.v3io_client.put_records(container=context.container, \n",
    "                                   path=context.output_stream_path, \n",
    "                                   records=[features], \n",
    "                                   raise_for_status=v3io.dataplane.RaiseForStatus.never)\n",
    "    \n",
    "    context.logger.info_with('Sent event to stream', \n",
    "                             record=features,\n",
    "                             response_status=resp.status_code, \n",
    "                             response_body=resp.body.decode('utf-8'))"
   ]
  },
  {
   "cell_type": "markdown",
   "metadata": {},
   "source": [
    "The following end-code annotation tells ```nuclio``` to stop parsing the notebook from this cell. _**Please do not remove this cell**_:"
   ]
  },
  {
   "cell_type": "code",
   "execution_count": 8,
   "metadata": {},
   "outputs": [],
   "source": [
    "# nuclio: end-code\n",
    "# marks the end of a code section"
   ]
  },
  {
   "cell_type": "markdown",
   "metadata": {},
   "source": [
    "## Test locally"
   ]
  },
  {
   "cell_type": "code",
   "execution_count": 69,
   "metadata": {
    "collapsed": true,
    "jupyter": {
     "outputs_hidden": true
    }
   },
   "outputs": [
    {
     "name": "stdout",
     "output_type": "stream",
     "text": [
      "Python> 2020-07-28 17:19:53,874 [info] Incoming event type: registration\n",
      "Python> 2020-07-28 17:19:53,874 [info] Processing event {'user_id': 111111, 'event_type': 'registration', 'postcode': 11014}\n",
      "Python> 2020-07-28 17:19:53,876 [info] Event was enriched: {'enriched_event': {'user_id': 111111, 'event_type': 'registration', 'postcode': 11014, 'socioeconomic_idx': 1}}\n"
     ]
    },
    {
     "ename": "KeyError",
     "evalue": "'event_time'",
     "output_type": "error",
     "traceback": [
      "\u001b[0;31m---------------------------------------------------------------------------\u001b[0m",
      "\u001b[0;31mKeyError\u001b[0m                                  Traceback (most recent call last)",
      "\u001b[0;32m<ipython-input-69-eb3612ea5f76>\u001b[0m in \u001b[0;36m<module>\u001b[0;34m\u001b[0m\n\u001b[1;32m      1\u001b[0m \u001b[0mevent\u001b[0m \u001b[0;34m=\u001b[0m \u001b[0mnuclio\u001b[0m\u001b[0;34m.\u001b[0m\u001b[0mEvent\u001b[0m\u001b[0;34m(\u001b[0m\u001b[0mbody\u001b[0m\u001b[0;34m=\u001b[0m\u001b[0;34mb'{\"user_id\" : 111111 , \"event_type\": \"registration\", \"postcode\": 11014}'\u001b[0m\u001b[0;34m)\u001b[0m\u001b[0;34m\u001b[0m\u001b[0;34m\u001b[0m\u001b[0m\n\u001b[1;32m      2\u001b[0m \u001b[0minit_context\u001b[0m\u001b[0;34m(\u001b[0m\u001b[0mcontext\u001b[0m\u001b[0;34m)\u001b[0m\u001b[0;34m\u001b[0m\u001b[0;34m\u001b[0m\u001b[0m\n\u001b[0;32m----> 3\u001b[0;31m \u001b[0mhandler\u001b[0m\u001b[0;34m(\u001b[0m\u001b[0mcontext\u001b[0m\u001b[0;34m,\u001b[0m \u001b[0mevent\u001b[0m\u001b[0;34m)\u001b[0m\u001b[0;34m\u001b[0m\u001b[0;34m\u001b[0m\u001b[0m\n\u001b[0m",
      "\u001b[0;32m<ipython-input-61-091ec650382e>\u001b[0m in \u001b[0;36mhandler\u001b[0;34m(context, event)\u001b[0m\n\u001b[1;32m     37\u001b[0m         \u001b[0mprocess_func\u001b[0m \u001b[0;34m=\u001b[0m \u001b[0mcontext\u001b[0m\u001b[0;34m.\u001b[0m\u001b[0mevent_handlers\u001b[0m\u001b[0;34m.\u001b[0m\u001b[0mget\u001b[0m\u001b[0;34m(\u001b[0m\u001b[0mevent_type\u001b[0m\u001b[0;34m)\u001b[0m\u001b[0;34m\u001b[0m\u001b[0;34m\u001b[0m\u001b[0m\n\u001b[1;32m     38\u001b[0m         \u001b[0mcontext\u001b[0m\u001b[0;34m.\u001b[0m\u001b[0mlogger\u001b[0m\u001b[0;34m.\u001b[0m\u001b[0minfo\u001b[0m\u001b[0;34m(\u001b[0m\u001b[0;34mf'Processing event {event_dict}'\u001b[0m\u001b[0;34m)\u001b[0m\u001b[0;34m\u001b[0m\u001b[0;34m\u001b[0m\u001b[0m\n\u001b[0;32m---> 39\u001b[0;31m         \u001b[0mresponse\u001b[0m \u001b[0;34m=\u001b[0m \u001b[0mprocess_func\u001b[0m\u001b[0;34m(\u001b[0m\u001b[0mcontext\u001b[0m\u001b[0;34m,\u001b[0m \u001b[0mevent_dict\u001b[0m\u001b[0;34m)\u001b[0m\u001b[0;34m\u001b[0m\u001b[0;34m\u001b[0m\u001b[0m\n\u001b[0m\u001b[1;32m     40\u001b[0m         \u001b[0mcontext\u001b[0m\u001b[0;34m.\u001b[0m\u001b[0mlogger\u001b[0m\u001b[0;34m.\u001b[0m\u001b[0minfo\u001b[0m\u001b[0;34m(\u001b[0m\u001b[0;34mf'Finished processing with status: {response.status_code} - and response body: {response.body} , event: {event_dict}'\u001b[0m\u001b[0;34m)\u001b[0m\u001b[0;34m\u001b[0m\u001b[0;34m\u001b[0m\u001b[0m\n\u001b[1;32m     41\u001b[0m     \u001b[0;32melse\u001b[0m\u001b[0;34m:\u001b[0m\u001b[0;34m\u001b[0m\u001b[0;34m\u001b[0m\u001b[0m\n",
      "\u001b[0;32m<ipython-input-61-091ec650382e>\u001b[0m in \u001b[0;36mprocess_registration\u001b[0;34m(context, event)\u001b[0m\n\u001b[1;32m    108\u001b[0m     \u001b[0menriched_event\u001b[0m \u001b[0;34m=\u001b[0m \u001b[0menrich_event\u001b[0m\u001b[0;34m(\u001b[0m\u001b[0mcontext\u001b[0m\u001b[0;34m,\u001b[0m \u001b[0mevent\u001b[0m\u001b[0;34m)\u001b[0m\u001b[0;34m\u001b[0m\u001b[0;34m\u001b[0m\u001b[0m\n\u001b[1;32m    109\u001b[0m \u001b[0;34m\u001b[0m\u001b[0m\n\u001b[0;32m--> 110\u001b[0;31m     features = {'registration_date': enriched_event['event_time'],\n\u001b[0m\u001b[1;32m    111\u001b[0m                \u001b[0;34m'date_of_birth'\u001b[0m\u001b[0;34m:\u001b[0m \u001b[0menriched_event\u001b[0m\u001b[0;34m[\u001b[0m\u001b[0;34m'date_of_birth'\u001b[0m\u001b[0;34m]\u001b[0m\u001b[0;34m,\u001b[0m\u001b[0;34m\u001b[0m\u001b[0;34m\u001b[0m\u001b[0m\n\u001b[1;32m    112\u001b[0m                \u001b[0;34m'socioeconomic_idx'\u001b[0m\u001b[0;34m:\u001b[0m  \u001b[0menriched_event\u001b[0m\u001b[0;34m[\u001b[0m\u001b[0;34m'socioeconomic_idx'\u001b[0m\u001b[0;34m]\u001b[0m\u001b[0;34m,\u001b[0m\u001b[0;34m\u001b[0m\u001b[0;34m\u001b[0m\u001b[0m\n",
      "\u001b[0;31mKeyError\u001b[0m: 'event_time'"
     ]
    }
   ],
   "source": [
    "event = nuclio.Event(body=b'{\"user_id\" : 111111 , \"event_type\": \"registration\", \"postcode\": 11014}')\n",
    "init_context(context)\n",
    "handler(context, event)\n"
   ]
  },
  {
   "cell_type": "markdown",
   "metadata": {},
   "source": [
    "## Deploy function"
   ]
  },
  {
   "cell_type": "code",
   "execution_count": 68,
   "metadata": {},
   "outputs": [
    {
     "name": "stdout",
     "output_type": "stream",
     "text": [
      "[nuclio] 2020-07-28 14:32:52,264 (info) Build complete\n",
      "[nuclio] 2020-07-28 14:32:56,321 (info) Function deploy complete\n",
      "[nuclio] 2020-07-28 14:32:56,330 done updating stream-to-features, function address: 192.168.224.209:32166\n",
      "%nuclio: function deployed\n"
     ]
    }
   ],
   "source": [
    "%nuclio deploy -p rapid-churn -n stream-to-features"
   ]
  },
  {
   "cell_type": "code",
   "execution_count": null,
   "metadata": {},
   "outputs": [],
   "source": []
  }
 ],
 "metadata": {
  "kernelspec": {
   "display_name": "Python [conda env:root] *",
   "language": "python",
   "name": "conda-root-py"
  },
  "language_info": {
   "codemirror_mode": {
    "name": "ipython",
    "version": 3
   },
   "file_extension": ".py",
   "mimetype": "text/x-python",
   "name": "python",
   "nbconvert_exporter": "python",
   "pygments_lexer": "ipython3",
   "version": "3.6.8"
  }
 },
 "nbformat": 4,
 "nbformat_minor": 4
}
