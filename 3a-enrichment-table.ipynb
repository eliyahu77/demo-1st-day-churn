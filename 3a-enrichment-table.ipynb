{
 "cells": [
  {
   "cell_type": "markdown",
   "metadata": {},
   "source": [
    "# Enrichment Table\n",
    "  --------------------------------------------------------------------\n",
    "\n",
    "##### This notebook will create enrichment table with socioeconomic data.\n"
   ]
  },
  {
   "cell_type": "code",
   "execution_count": 1,
   "metadata": {},
   "outputs": [],
   "source": [
    "import os\n",
    "import json\n",
    "from random import randint\n",
    "import v3io.dataplane\n",
    "\n",
    "\n",
    "V3IO_ACCESS_KEY = os.getenv('V3IO_ACCESS_KEY')\n",
    "V3IO_USERNAME = os.getenv('V3IO_USERNAME')\n",
    "CONTAINER = 'users'\n",
    "ENRICHMENT_TABLE_PATH = os.path.join(V3IO_USERNAME, 'examples/rapid-prototype/enrichment-table')\n"
   ]
  },
  {
   "cell_type": "markdown",
   "metadata": {},
   "source": [
    "### Create V3IO Client"
   ]
  },
  {
   "cell_type": "code",
   "execution_count": 2,
   "metadata": {},
   "outputs": [],
   "source": [
    "v3io_client = v3io.dataplane.Client(endpoint='http://v3io-webapi:8081', access_key=V3IO_ACCESS_KEY)"
   ]
  },
  {
   "cell_type": "markdown",
   "metadata": {},
   "source": [
    "### Create enrichment table\n",
    "____________________________\n",
    "We will create enrichment table where the key is postal-code and the value is the socioeconomic index at the area.\n"
   ]
  },
  {
   "cell_type": "code",
   "execution_count": 3,
   "metadata": {},
   "outputs": [],
   "source": [
    "for postcode in range(10000,99999):\n",
    "    remainder = postcode % 3\n",
    "    if remainder == 0:\n",
    "        idx = randint(1,7)\n",
    "    elif remainder == 1:\n",
    "        idx = randint(1,3)\n",
    "    else:\n",
    "        idx = randint(5,7)\n",
    "            \n",
    "     \n",
    "    attr = {'postcode': postcode ,'socioeconomic_idx': idx}\n",
    "    v3io_client.put_item(container=CONTAINER, path=os.path.join(ENRICHMENT_TABLE_PATH, str(postcode)),\n",
    "                        attributes=attr)\n",
    "    "
   ]
  }
 ],
 "metadata": {
  "kernelspec": {
   "display_name": "Python [conda env:root] *",
   "language": "python",
   "name": "conda-root-py"
  },
  "language_info": {
   "codemirror_mode": {
    "name": "ipython",
    "version": 3
   },
   "file_extension": ".py",
   "mimetype": "text/x-python",
   "name": "python",
   "nbconvert_exporter": "python",
   "pygments_lexer": "ipython3",
   "version": "3.6.8"
  }
 },
 "nbformat": 4,
 "nbformat_minor": 4
}
