{
 "cells": [
  {
   "cell_type": "markdown",
   "metadata": {},
   "source": [
    "# Event Generator\n",
    "\n",
    "### This notebook generates an event stream"
   ]
  },
  {
   "cell_type": "code",
   "execution_count": 11,
   "metadata": {},
   "outputs": [],
   "source": [
    "import os\n",
    "import json\n",
    "from random import randint, random\n",
    "import math\n",
    "import v3io.dataplane\n",
    "from faker import Faker\n",
    "import uuid\n",
    "from datetime import datetime, timedelta\n",
    "\n",
    "# V3IO Settings\n",
    "V3IO_ACCESS_KEY = os.getenv('V3IO_ACCESS_KEY')\n",
    "V3IO_USERNAME = os.getenv('V3IO_USERNAME')\n",
    "os.environ['V3IO_ACCESS_KEY'] = V3IO_ACCESS_KEY\n",
    "os.environ['V3IO_USERNAME'] = V3IO_USERNAME\n",
    "CONTAINER = 'users'\n",
    "STREAM_PATH = os.path.join(V3IO_USERNAME, 'examples/rapid-churn/generated-stream')\n",
    "SHARDS_COUNT = 8\n",
    "\n",
    "# Generator settings\n",
    "ACTIVITIES = 6\n",
    "MAX_PLAY_DURATION = 10\n",
    "MAX_SCORE = 100\n",
    "MAX_PURCHASE_AMOUNT = 1000\n",
    "\n",
    "def gen_postcode(is_churn):\n",
    "    # if is_churn is true the postcode modulu 3 will return 0 or 1\n",
    "    # if is_churn is false the postcode modulu 3 will return 0 or 2\n",
    "    # this will encode information in postcode that our ML model will learn\n",
    "    base_postcode = 3 * randint(3334,33333)\n",
    "    group = randint(0,1)\n",
    "    if is_churn:\n",
    "        return base_postcode + group\n",
    "    else:\n",
    "        return base_postcode + (group * 2)\n",
    "\n",
    "'''\n",
    "User information:\n",
    "    Base (created from new user event):\n",
    "    User ID\n",
    "    Full name\n",
    "    Birthdate \n",
    "    City (time-zone)\n",
    "    Registration date\n",
    "    Affiliate / Banner details\n",
    "    Campaign ID\n",
    "    Affiliate ID / Source\n",
    "    Creative ID\n",
    "'''\n",
    "def new_registration(fake, id, event_time, is_churn):\n",
    "    return {'user_id': id,\n",
    "            'event_type': 'registration',\n",
    "            'event_time': event_time,\n",
    "            'name':fake.name(),\n",
    "            'date_of_birth': fake.date(),\n",
    "            'street_address': fake.street_address(),\n",
    "            'city': fake.city(),\n",
    "            'country': fake.country(),\n",
    "            'affiliate_url': fake.image_url(),\n",
    "            'campaign': fake.ean8(),\n",
    "            'creative': fake.ean13(),\n",
    "            'postcode': gen_postcode(is_churn)}\n",
    "\n",
    "'''\n",
    "In-App purchases log:\n",
    "    User ID\n",
    "    Session ID\n",
    "    Date\n",
    "    Amount \n",
    "    Product/service (category)\n",
    "'''\n",
    "def new_purchase(fake, id, event_time):\n",
    "    return {'user_id': id,\n",
    "            'event_type': 'purchase',\n",
    "            'event_time': event_time,\n",
    "            'product_id': fake.random.randint(0, 5),\n",
    "            'amount': fake.randomize_nb_elements(number=MAX_PURCHASE_AMOUNT)}\n",
    "\n",
    "'''\n",
    "User activity log:\n",
    "    User ID\n",
    "    Session ID\n",
    "    Activity (category)\n",
    "    Start Date\n",
    "    Duration (e.g. game duration) \n",
    "    # Percent Completed (e.g. left after 25% or completed 100%)\n",
    "    Score\n",
    "    Is success (e.g. won the game)\n",
    "    # Game Level after activity (game level was updated)\n",
    "'''\n",
    "def new_activity(fake, id, event_time):\n",
    "    return {'user_id': id,\n",
    "            'event_type': 'activity',\n",
    "            'event_time': event_time,\n",
    "            'activity': fake.random.randint(0, ACTIVITIES),\n",
    "            'duration': fake.random.randint(0, MAX_PLAY_DURATION),\n",
    "            'score': fake.random.randint(0, MAX_SCORE),\n",
    "            'is_win': fake.random.randint(0, 1)}\n",
    "\n",
    "def new_win(fake, id, event_time):\n",
    "    activity = new_activity(fake, id, event_time)\n",
    "\n",
    "    # Keep score in the top half and win=1\n",
    "    half_max_score = MAX_SCORE/2\n",
    "    if activity['score'] <= (half_max_score):\n",
    "       activity['score'] = fake.random.randint(half_max_score, MAX_SCORE)\n",
    "    activity['is_win'] = 1\n",
    "    return activity\n",
    "\n",
    "def new_lose(fake, id, event_time):\n",
    "    activity = new_activity(fake, id, event_time)\n",
    "\n",
    "    # Keep score in the bottom half and win=0\n",
    "    half_max_score = MAX_SCORE/2\n",
    "    if activity['score'] >= (half_max_score):\n",
    "       activity['score'] = fake.random.randint(0, half_max_score)\n",
    "    activity['is_win'] = 0\n",
    "    return activity\n",
    "\n",
    "'''\n",
    "Membership Info (from update membership event):\n",
    "    Start date \n",
    "    Expiration date \n",
    "    Payment method \n",
    "    Membership level / price\n",
    "    Cancelation date\n",
    "    Auto renew \n",
    "'''\n",
    "\n",
    "def gen_event_date(is_churn, prev_event_date=None):\n",
    "    if prev_event_date is None:\n",
    "        #generate first event date\n",
    "        return str(datetime.now() - timedelta(hours=randint(48,96)))\n",
    "    else:\n",
    "        prev_dt = datetime.strptime(prev_event_date,'%Y-%m-%d %H:%M:%S.%f')\n",
    "        if prev_dt + timedelta(hours=30) < datetime.now() and not is_churn and randint(1,1000) <= 5:\n",
    "            # if the user is not churned and it is possible, generate event in the following day with prbability 0.005\n",
    "            return str(prev_dt + timedelta(hours=randint(15,24)))\n",
    "        else:\n",
    "            return str(prev_dt + timedelta(seconds=randint(5,100)))\n",
    "        \n",
    "def generate_events(fake, user_ids, events_dist, num_events, is_churn):\n",
    "    events = []\n",
    "    for id in user_ids:\n",
    "        # register\n",
    "        event_time = gen_event_date(is_churn)\n",
    "        events.append(new_registration(fake, id, event_time, is_churn))\n",
    "        for _ in range(num_events):\n",
    "            # generate event according to dist\n",
    "            acc_prob = 0\n",
    "            rand = random()\n",
    "            for event_dist in events_dist:\n",
    "                if rand <= event_dist['probability']+acc_prob:\n",
    "                    event_time = gen_event_date(is_churn, event_time)\n",
    "                    events.append(event_dist['generator'](fake, id, event_time))\n",
    "                    prob_threshold = 0\n",
    "                    break\n",
    "                else:\n",
    "                    acc_prob += event_dist['probability']\n",
    "    return events\n",
    "\n",
    "\n",
    "# 70% churn users \n",
    "NUM_USERS_GROUP1 = 1400\n",
    "NUM_USERS_GROUP2 = 600 \n",
    "NUM_USERS = NUM_USERS_GROUP1+NUM_USERS_GROUP2\n",
    "\n",
    "EVENTS_PER_USER = 1000\n",
    "\n",
    "''' Set user groups to better model the behaviour and churn \n",
    "- Group 1: Losers\n",
    "- Group 2: Winners\n",
    "'''\n",
    "GROUP1_EVENTS_DIST = [{'probability': 0.1, 'generator': new_purchase}, \n",
    "                      {'probability': 0.89, 'generator': new_lose}, \n",
    "                      {'probability': 0.01, 'generator': new_win}]\n",
    "\n",
    "GROUP2_EVENTS_DIST = [{'probability': 0.1, 'generator': new_purchase}, \n",
    "                      {'probability': 0.85, 'generator': new_lose},\n",
    "                      {'probability': 0.05, 'generator': new_win}]"
   ]
  },
  {
   "cell_type": "markdown",
   "metadata": {},
   "source": [
    "## Create V3IO Client"
   ]
  },
  {
   "cell_type": "code",
   "execution_count": 13,
   "metadata": {},
   "outputs": [],
   "source": [
    "v3io_client = v3io.dataplane.Client(endpoint='http://v3io-webapi:8081', access_key=V3IO_ACCESS_KEY)"
   ]
  },
  {
   "cell_type": "markdown",
   "metadata": {},
   "source": [
    "## Create V3IO Stream"
   ]
  },
  {
   "cell_type": "code",
   "execution_count": 14,
   "metadata": {},
   "outputs": [
    {
     "data": {
      "text/plain": [
       "204"
      ]
     },
     "execution_count": 14,
     "metadata": {},
     "output_type": "execute_result"
    }
   ],
   "source": [
    "resp = v3io_client.create_stream(container=CONTAINER,\n",
    "                           path=STREAM_PATH,\n",
    "                           shard_count=SHARDS_COUNT)\n",
    "resp.status_code"
   ]
  },
  {
   "cell_type": "markdown",
   "metadata": {},
   "source": [
    "## Generate Events"
   ]
  },
  {
   "cell_type": "code",
   "execution_count": 12,
   "metadata": {},
   "outputs": [
    {
     "name": "stdout",
     "output_type": "stream",
     "text": [
      "Events generated: 2002000\n",
      "Events preview: [{'user_id': '67229d4a-f6a4-43cb-973a-5a5a510013fc', 'event_type': 'activity', 'event_time': '2020-07-26 12:16:02.291167', 'activity': 0, 'duration': 10, 'score': 47, 'is_win': 0}, {'user_id': '67229d4a-f6a4-43cb-973a-5a5a510013fc', 'event_type': 'activity', 'event_time': '2020-07-26 12:17:29.291167', 'activity': 1, 'duration': 7, 'score': 29, 'is_win': 0}, {'user_id': '67229d4a-f6a4-43cb-973a-5a5a510013fc', 'event_type': 'activity', 'event_time': '2020-07-26 12:18:09.291167', 'activity': 0, 'duration': 5, 'score': 3, 'is_win': 0}, {'user_id': '67229d4a-f6a4-43cb-973a-5a5a510013fc', 'event_type': 'activity', 'event_time': '2020-07-26 12:19:06.291167', 'activity': 5, 'duration': 10, 'score': 41, 'is_win': 0}]\n"
     ]
    }
   ],
   "source": [
    "fake = Faker()\n",
    "\n",
    "group1_user_ids = (str(uuid.uuid4()) for _ in range(NUM_USERS_GROUP1))\n",
    "group2_user_ids = (str(uuid.uuid4()) for _ in range(NUM_USERS_GROUP2))\n",
    "\n",
    "group1_events = generate_events(fake, group1_user_ids, GROUP1_EVENTS_DIST, EVENTS_PER_USER, True)\n",
    "group2_events = generate_events(fake, group2_user_ids, GROUP2_EVENTS_DIST, EVENTS_PER_USER, False)\n",
    "\n",
    "\n",
    "print(f'Events generated: {len(group1_events)+len(group2_events)}')\n",
    "print(f'Events preview: {group1_events[1:5]}') "
   ]
  },
  {
   "cell_type": "markdown",
   "metadata": {},
   "source": [
    "## Write generated events to V3IO Steam"
   ]
  },
  {
   "cell_type": "markdown",
   "metadata": {},
   "source": [
    "#### Transform the event to stream records"
   ]
  },
  {
   "cell_type": "code",
   "execution_count": 15,
   "metadata": {},
   "outputs": [],
   "source": [
    "records = []\n",
    "for event in group1_events + group2_events:\n",
    "    records.append({'data': json.dumps(event)})\n"
   ]
  },
  {
   "cell_type": "markdown",
   "metadata": {},
   "source": [
    "#### Ingest in small batches to V3IO Stream"
   ]
  },
  {
   "cell_type": "code",
   "execution_count": 16,
   "metadata": {},
   "outputs": [],
   "source": [
    "batch_size = 1000\n",
    "STREAM_PATH = os.path.join(V3IO_USERNAME, 'examples/rapid-churn/generated-stream')\n",
    "for i in range(0, len(records), batch_size):\n",
    "    resp = v3io_client.put_records(container=CONTAINER, path=STREAM_PATH, records=records[i:i+batch_size])\n"
   ]
  },
  {
   "cell_type": "markdown",
   "metadata": {},
   "source": [
    "## Delete the stream"
   ]
  },
  {
   "cell_type": "code",
   "execution_count": null,
   "metadata": {},
   "outputs": [],
   "source": [
    "resp = v3io_client.delete_stream(container=CONTAINER, path=STREAM_PATH)\n",
    "resp.body"
   ]
  },
  {
   "cell_type": "code",
   "execution_count": 2,
   "metadata": {},
   "outputs": [
    {
     "data": {
      "text/plain": [
       "'4253f5c9-020f-4e6c-ae66-c9e9c5ad24ed'"
      ]
     },
     "execution_count": 2,
     "metadata": {},
     "output_type": "execute_result"
    }
   ],
   "source": [
    "%env V3IO_ACCESS_KEY"
   ]
  },
  {
   "cell_type": "code",
   "execution_count": null,
   "metadata": {},
   "outputs": [],
   "source": []
  }
 ],
 "metadata": {
  "kernelspec": {
   "display_name": "Python 3",
   "language": "python",
   "name": "python3"
  },
  "language_info": {
   "codemirror_mode": {
    "name": "ipython",
    "version": 3
   },
   "file_extension": ".py",
   "mimetype": "text/x-python",
   "name": "python",
   "nbconvert_exporter": "python",
   "pygments_lexer": "ipython3",
   "version": "3.6.8"
  }
 },
 "nbformat": 4,
 "nbformat_minor": 4
}
