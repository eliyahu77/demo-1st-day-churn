{
 "cells": [
  {
   "cell_type": "markdown",
   "metadata": {},
   "source": [
    "## Load project"
   ]
  },
  {
   "cell_type": "code",
   "execution_count": 1,
   "metadata": {},
   "outputs": [],
   "source": [
    "from os import path, getenv\n",
    "from mlrun import load_project, mount_v3io\n",
    "import nuclio"
   ]
  },
  {
   "cell_type": "code",
   "execution_count": 2,
   "metadata": {},
   "outputs": [
    {
     "name": "stdout",
     "output_type": "stream",
     "text": [
      "Project path: /User/rapid-proto/conf\n",
      "Project name: rapid-prototype-michaelk\n"
     ]
    }
   ],
   "source": [
    "project_name = '-'.join(filter(None, ['rapid-prototype', getenv('V3IO_USERNAME', None)]))\n",
    "project_path = path.abspath('conf')\n",
    "project = load_project(name=project_name, context=project_path, init_git=False)\n",
    "\n",
    "print(f'Project path: {project_path}\\nProject name: {project_name}')"
   ]
  },
  {
   "cell_type": "markdown",
   "metadata": {},
   "source": [
    "### Add Serving Functions from the MLRun Functions Marketplace <a id=\"gs-ml-pipeline-add-functions\"></a>\n"
   ]
  },
  {
   "cell_type": "code",
   "execution_count": 3,
   "metadata": {},
   "outputs": [
    {
     "data": {
      "text/plain": [
       "{'name': 'rapid-prototype-michaelk',\n",
       " 'functions': [{'name': 'snapshot-data',\n",
       "   'spec': {'kind': 'job',\n",
       "    'metadata': {'name': 'snapshot-data',\n",
       "     'tag': '',\n",
       "     'project': 'rapid-prototype-michaelk'},\n",
       "    'spec': {'command': '',\n",
       "     'args': [],\n",
       "     'image': '.mlrun/func-rapid-prototype-michaelk-snapshot-data-latest',\n",
       "     'env': [{'name': 'V3IO_API', 'value': ''},\n",
       "      {'name': 'V3IO_USERNAME', 'value': ''},\n",
       "      {'name': 'V3IO_ACCESS_KEY', 'value': ''}],\n",
       "     'default_handler': '',\n",
       "     'entry_points': {'snapshot_data': {'name': 'snapshot_data',\n",
       "       'doc': '',\n",
       "       'parameters': [{'name': 'context', 'default': ''},\n",
       "        {'name': 'container', 'default': ''},\n",
       "        {'name': 'table_path', 'default': ''},\n",
       "        {'name': 'columns', 'default': ''},\n",
       "        {'name': 'format', 'default': 'csv'}],\n",
       "       'outputs': [{'default': ''}],\n",
       "       'lineno': 8}},\n",
       "     'description': '',\n",
       "     'build': {'functionSourceCode': 'IyBHZW5lcmF0ZWQgYnkgbnVjbGlvLmV4cG9ydC5OdWNsaW9FeHBvcnRlcgoKZnJvbSBvcyBpbXBvcnQgcGF0aAppbXBvcnQgcGFuZGFzIGFzIHBkCmltcG9ydCB2M2lvX2ZyYW1lcyBhcyB2M2YKCgpkZWYgc25hcHNob3RfZGF0YShjb250ZXh0LCBjb250YWluZXIsIHRhYmxlX3BhdGgsIGNvbHVtbnMsIGZvcm1hdD0nY3N2Jyk6CiAgICAKICAgIGNsaWVudCA9IHYzZi5DbGllbnQoImZyYW1lc2Q6ODA4MSIsIGNvbnRhaW5lcj1jb250YWluZXIpCiAgICBjbGllbnQuZXhlY3V0ZShiYWNrZW5kPSJrdiIsIHRhYmxlPXRhYmxlX3BhdGgsIGNvbW1hbmQ9ImluZmVyIikKICAgIGRmID0gY2xpZW50LnJlYWQoJ2t2JywgdGFibGVfcGF0aCwgY29sdW1ucz1jb2x1bW5zKQogICAgCiAgICB0YXJnZXRfcGF0aCA9IHBhdGguam9pbihjb250ZXh0LmFydGlmYWN0X3BhdGgsICdkYXRhJykKICAgIGNvbnRleHQubG9nZ2VyLmluZm8oJ1NhdmluZyBzbmFwc2hvdCBkYXRhIHNldCB0byB7fSAuLi4nLmZvcm1hdCh0YXJnZXRfcGF0aCkpCiAgICAKICAgIGNvbnRleHQubG9nX2RhdGFzZXQoJ3NuYXBzaG90X2RhdGFzZXQnLCBkZj1kZiwgZm9ybWF0PWZvcm1hdCwKICAgICAgICAgICAgICAgICAgICAgICAgaW5kZXg9RmFsc2UsIGFydGlmYWN0X3BhdGg9dGFyZ2V0X3BhdGgpCgo=',\n",
       "      'image': '.mlrun/func-rapid-prototype-michaelk-snapshot-data-latest',\n",
       "      'base_image': 'mlrun/ml-models',\n",
       "      'commands': ['pip install v3io-frames==0.6.18']}}}},\n",
       "  {'url': 'hub://describe', 'name': 'describe'},\n",
       "  {'url': 'hub://sklearn_classifier', 'name': 'train'},\n",
       "  {'url': 'hub://test_classifier', 'name': 'test'}],\n",
       " 'workflows': [],\n",
       " 'artifacts': [],\n",
       " 'artifact_path': ''}"
      ]
     },
     "execution_count": 3,
     "metadata": {},
     "output_type": "execute_result"
    }
   ],
   "source": [
    "project.to_dict()"
   ]
  },
  {
   "cell_type": "code",
   "execution_count": 6,
   "metadata": {},
   "outputs": [
    {
     "data": {
      "text/plain": [
       "{'command': '',\n",
       " 'args': [],\n",
       " 'image': '',\n",
       " 'description': 'generic sklearn model server',\n",
       " 'min_replicas': 1,\n",
       " 'max_replicas': 4,\n",
       " 'volumes': [{'flexVolume': {'driver': 'v3io/fuse',\n",
       "    'options': {'accessKey': 'b01eb2f1-294a-4f63-b0a6-42561e3e1706',\n",
       "     'container': 'users',\n",
       "     'subPath': '/michaelk'}},\n",
       "   'name': 'v3io'}],\n",
       " 'volume_mounts': [{'mountPath': '/User', 'name': 'v3io'}],\n",
       " 'env': [{'name': 'MODEL_CLASS', 'value': 'ClassifierModel'},\n",
       "  {'name': 'ENABLE_EXPLAINER', 'value': 'False'},\n",
       "  {'name': 'V3IO_API', 'value': 'v3io-webapi.default-tenant.svc:8081'},\n",
       "  {'name': 'V3IO_USERNAME', 'value': 'michaelk'},\n",
       "  {'name': 'V3IO_ACCESS_KEY', 'value': 'b01eb2f1-294a-4f63-b0a6-42561e3e1706'},\n",
       "  {'name': 'SERVING_MODEL_rapid_proto',\n",
       "   'value': '/User/rapid-proto/artifacts/model/3/model.pkl',\n",
       "   'value_from': None},\n",
       "  {'name': 'INFERENCE_STREAM',\n",
       "   'value': 'users/michaelk/examples/rapid-prototype/inference-stream',\n",
       "   'value_from': None}],\n",
       " 'config': {'spec.triggers.serving_stream': {'kind': 'v3ioStream',\n",
       "   'url': 'http://v3io-webapi:8081/users/michaelk/examples/rapid-prototype/serving-stream@modelserver',\n",
       "   'attributes': {'seekTo': 'earliest',\n",
       "    'partitions': [0, 1, 2, 3, 4, 5, 6, 7],\n",
       "    'readBatchSize': 64,\n",
       "    'pollingIntervalMs': 250},\n",
       "   'maxWorkers': 1,\n",
       "   'password': 'b01eb2f1-294a-4f63-b0a6-42561e3e1706'}},\n",
       " 'base_spec': {'apiVersion': 'nuclio.io/v1',\n",
       "  'kind': 'nuclio:serving',\n",
       "  'metadata': {'annotations': {'nuclio.io/generated_by': 'function generated at 01-05-2020 by admin from /User/functions/model_server/model_server.ipynb'},\n",
       "   'labels': {},\n",
       "   'name': 'sklearn-server'},\n",
       "  'spec': {'build': {'baseImage': 'mlrun/mlrun',\n",
       "    'commands': ['python -m pip install numpy cloudpickle v3io sklearn'],\n",
       "    'functionSourceCode': 'IyBHZW5lcmF0ZWQgYnkgbnVjbGlvLmV4cG9ydC5OdWNsaW9FeHBvcnRlciBvbiAyMDIwLTA1LTAxIDIwOjE4CgppbXBvcnQgb3MKZnJvbSBjbG91ZHBpY2tsZSBpbXBvcnQgbG9hZAppbXBvcnQgbnVtcHkgYXMgbnAKZnJvbSB0eXBpbmcgaW1wb3J0IExpc3QKZnJvbSBkYXRldGltZSBpbXBvcnQgZGF0ZXRpbWUKaW1wb3J0IG1scnVuCgpjbGFzcyBDbGFzc2lmaWVyTW9kZWwobWxydW4ucnVudGltZXMuTUxNb2RlbFNlcnZlcik6CiAgICBkZWYgbG9hZChzZWxmKToKICAgICAgICAiIiJMb2FkIG1vZGVsIGZyb20gc3RvcmFnZS4iIiIKICAgICAgICBtb2RlbF9maWxlLCBleHRyYV9kYXRhID0gc2VsZi5nZXRfbW9kZWwoJy5wa2wnKQogICAgICAgIHNlbGYubW9kZWwgPSBsb2FkKG9wZW4obW9kZWxfZmlsZSwgJ3JiJykpCgogICAgZGVmIHByZWRpY3Qoc2VsZiwgYm9keTogZGljdCkgLT4gTGlzdDoKICAgICAgICAiIiJHZW5lcmF0ZSBtb2RlbCBwcmVkaWN0aW9ucyBmcm9tIHNhbXBsZS4KICAgICAgICAKICAgICAgICA6cGFyYW0gYm9keSA6IEEgZGljdCBvZiBvYnNlcnZhdGlvbnMsIGVhY2ggb2Ygd2hpY2ggaXMgYW4gMS1kaW1lbnNpb25hbCBmZWF0dXJlIHZlY3Rvci4KICAgICAgICAgICAgCiAgICAgICAgUmV0dXJucyBtb2RlbCBwcmVkaWN0aW9ucyBhcyBhIGBMaXN0YCwgb25lIGZvciBlYWNoIHJvdyBpbiB0aGUgYGJvZHlgIGlucHV0IGBMaXN0YC4KICAgICAgICAiIiIKICAgICAgICB0cnk6CiAgICAgICAgICAgIGZlYXRzID0gbnAuYXNhcnJheShib2R5WydpbnN0YW5jZXMnXSkKICAgICAgICAgICAgcmVzdWx0OiBucC5uZGFycmF5ID0gc2VsZi5tb2RlbC5wcmVkaWN0KGZlYXRzKQogICAgICAgICAgICByZXNwID0gcmVzdWx0LnRvbGlzdCgpCiAgICAgICAgZXhjZXB0IEV4Y2VwdGlvbiBhcyBlOgogICAgICAgICAgICByYWlzZSBFeGNlcHRpb24oZiJGYWlsZWQgdG8gcHJlZGljdCB7ZX0iKQogICAgICAgIAogICAgICAgIHJldHVybiByZXNwCgoKZnJvbSBtbHJ1bi5ydW50aW1lcyBpbXBvcnQgbnVjbGlvX2luaXRfaG9vawpkZWYgaW5pdF9jb250ZXh0KGNvbnRleHQpOgogICAgbnVjbGlvX2luaXRfaG9vayhjb250ZXh0LCBnbG9iYWxzKCksICdzZXJ2aW5nJykKCmRlZiBoYW5kbGVyKGNvbnRleHQsIGV2ZW50KToKICAgIHJldHVybiBjb250ZXh0Lm1scnVuX2hhbmRsZXIoY29udGV4dCwgZXZlbnQpCg==',\n",
       "    'noBaseImagesPull': True},\n",
       "   'env': [{'name': 'MODEL_CLASS', 'value': 'ClassifierModel'}],\n",
       "   'handler': 'model_server:handler',\n",
       "   'runtime': 'python:3.6',\n",
       "   'volumes': []}},\n",
       " 'source': '',\n",
       " 'function_kind': 'mlrun'}"
      ]
     },
     "execution_count": 6,
     "metadata": {},
     "output_type": "execute_result"
    }
   ],
   "source": [
    "project.set_function('hub://model_server:development', 'serving')\n",
    "\n",
    "input_stream = f'http://v3io-webapi:8081/users/{getenv(\"V3IO_USERNAME\")}/examples/rapid-prototype/serving-stream@modelserver'\n",
    "partitions = list(range(0,8))\n",
    "\n",
    "serving = project.func('serving').apply(mount_v3io())\n",
    "serving.add_model('rapid_proto', '/User/rapid-proto/artifacts/model/3/model.pkl')\n",
    "serving.set_envs({'INFERENCE_STREAM' : path.join('users', getenv('V3IO_USERNAME'), 'examples/rapid-prototype/inference-stream')})\n",
    "\n",
    "serving.add_trigger('serving_stream', nuclio.triggers.V3IOStreamTrigger(url=input_stream, partitions=partitions))\n",
    "serving.spec.config.pop('spec.triggers.http')\n",
    "\n",
    "serving.spec.min_replicas= 1\n",
    "serving.spec.to_dict()"
   ]
  },
  {
   "cell_type": "code",
   "execution_count": 8,
   "metadata": {},
   "outputs": [
    {
     "name": "stdout",
     "output_type": "stream",
     "text": [
      "> 2020-07-30 15:10:08,452 [info] deploy started\n",
      "[nuclio] 2020-07-30 15:10:10,566 (info) Build complete\n",
      "[nuclio] 2020-07-30 15:10:23,728 (info) Function deploy complete\n",
      "[nuclio] 2020-07-30 15:10:23,736 done creating rapid-prototype-mk-sklearn-server, function address: 192.168.226.12:30693\n"
     ]
    },
    {
     "data": {
      "text/plain": [
       "'http://192.168.226.12:30693'"
      ]
     },
     "execution_count": 8,
     "metadata": {},
     "output_type": "execute_result"
    }
   ],
   "source": [
    "serving.deploy(project='rapid-prototype-mk')"
   ]
  },
  {
   "cell_type": "markdown",
   "metadata": {},
   "source": [
    "### Trigger the seving func"
   ]
  },
  {
   "cell_type": "code",
   "execution_count": 54,
   "metadata": {},
   "outputs": [
    {
     "name": "stdout",
     "output_type": "stream",
     "text": [
      "200\n",
      "[0]\n"
     ]
    }
   ],
   "source": [
    "import requests\n",
    "import json\n",
    "\n",
    "feat = [7,799,47,17,143,1560,7,164,11,810.0,162.0,5.0,782.0]\n",
    "json = json.dumps({'instances': np.array(feat).reshape(1,-1).tolist()})\n",
    "\n",
    "resp = requests.post(url='http://192.168.226.12:31425/rapid_proto/predict', \n",
    "                     json = json)\n",
    "print(resp.status_code)\n",
    "print(resp.text)"
   ]
  }
 ],
 "metadata": {
  "kernelspec": {
   "display_name": "Python 3",
   "language": "python",
   "name": "python3"
  },
  "language_info": {
   "codemirror_mode": {
    "name": "ipython",
    "version": 3
   },
   "file_extension": ".py",
   "mimetype": "text/x-python",
   "name": "python",
   "nbconvert_exporter": "python",
   "pygments_lexer": "ipython3",
   "version": "3.6.8"
  }
 },
 "nbformat": 4,
 "nbformat_minor": 4
}
